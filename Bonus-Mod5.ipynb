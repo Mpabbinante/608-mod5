{
 "cells": [
  {
   "cell_type": "markdown",
   "id": "15efa1d2-e230-44e5-a46c-b594d50d13dc",
   "metadata": {},
   "source": [
    "Mod 5 Bonus - Mike Abbinante"
   ]
  },
  {
   "cell_type": "code",
   "execution_count": 1,
   "id": "af8acea1-689b-4d83-bc7b-8c0ad9468b6a",
   "metadata": {},
   "outputs": [],
   "source": [
    "import pandas as pd"
   ]
  },
  {
   "cell_type": "code",
   "execution_count": 2,
   "id": "eaec06c5-1f26-4aba-b67c-e1b2bba2a782",
   "metadata": {},
   "outputs": [],
   "source": [
    "zips = pd.Series({'Boston' : '02215', 'Miami' : '3310'})"
   ]
  },
  {
   "cell_type": "code",
   "execution_count": 3,
   "id": "41b0ac85-9166-4ac7-b875-8b8aa736df51",
   "metadata": {},
   "outputs": [
    {
     "data": {
      "text/plain": [
       "Boston    02215\n",
       "Miami      3310\n",
       "dtype: object"
      ]
     },
     "execution_count": 3,
     "metadata": {},
     "output_type": "execute_result"
    }
   ],
   "source": [
    "zips"
   ]
  },
  {
   "cell_type": "code",
   "execution_count": 4,
   "id": "57ee8c2a-9a8d-430d-a2d7-3896a751182e",
   "metadata": {},
   "outputs": [
    {
     "data": {
      "text/plain": [
       "Boston     True\n",
       "Miami     False\n",
       "dtype: bool"
      ]
     },
     "execution_count": 4,
     "metadata": {},
     "output_type": "execute_result"
    }
   ],
   "source": [
    "zips.str.match(r'\\d{5}')"
   ]
  },
  {
   "cell_type": "code",
   "execution_count": 5,
   "id": "b14fd1c6-017c-4b32-b1e8-344b6e94cd5f",
   "metadata": {},
   "outputs": [],
   "source": [
    "import re"
   ]
  },
  {
   "cell_type": "code",
   "execution_count": 6,
   "id": "889adae6-9dd4-4cdc-b9de-74a5d6343d93",
   "metadata": {},
   "outputs": [
    {
     "data": {
      "text/plain": [
       "'Valid'"
      ]
     },
     "execution_count": 6,
     "metadata": {},
     "output_type": "execute_result"
    }
   ],
   "source": [
    "'Valid' if re.fullmatch(r'\\d{5}' , '02215') else 'Invalid'"
   ]
  },
  {
   "cell_type": "code",
   "execution_count": 7,
   "id": "aa8e0bb0-6605-4ab1-aac5-e1fdf21a6649",
   "metadata": {},
   "outputs": [
    {
     "data": {
      "text/plain": [
       "'Invalid'"
      ]
     },
     "execution_count": 7,
     "metadata": {},
     "output_type": "execute_result"
    }
   ],
   "source": [
    "'Valid' if re.fullmatch(r'\\d{5}' , '3310') else 'Invalid'"
   ]
  },
  {
   "cell_type": "code",
   "execution_count": 8,
   "id": "69dcae75-3cef-430a-88d3-f6e3b6fe5b55",
   "metadata": {},
   "outputs": [],
   "source": [
    "cities = pd.Series(['Boston, MA 02215' , 'Miami, FL 33101'])"
   ]
  },
  {
   "cell_type": "code",
   "execution_count": 9,
   "id": "206700ba-0be1-4b19-9be6-9179c8bb93b0",
   "metadata": {},
   "outputs": [
    {
     "data": {
      "text/plain": [
       "0    Boston, MA 02215\n",
       "1     Miami, FL 33101\n",
       "dtype: object"
      ]
     },
     "execution_count": 9,
     "metadata": {},
     "output_type": "execute_result"
    }
   ],
   "source": [
    "cities"
   ]
  },
  {
   "cell_type": "code",
   "execution_count": 10,
   "id": "51664400-cd5a-4800-9a70-19c60c378156",
   "metadata": {},
   "outputs": [
    {
     "data": {
      "text/plain": [
       "0    True\n",
       "1    True\n",
       "dtype: bool"
      ]
     },
     "execution_count": 10,
     "metadata": {},
     "output_type": "execute_result"
    }
   ],
   "source": [
    "cities.str.contains(r'[A-Z]{2}')"
   ]
  },
  {
   "cell_type": "code",
   "execution_count": 11,
   "id": "a326b6fb-4b9e-437a-87c7-919e4ad5bfca",
   "metadata": {},
   "outputs": [
    {
     "data": {
      "text/plain": [
       "0    False\n",
       "1    False\n",
       "dtype: bool"
      ]
     },
     "execution_count": 11,
     "metadata": {},
     "output_type": "execute_result"
    }
   ],
   "source": [
    "cities.str.match(r'[A-Z]{2}')"
   ]
  },
  {
   "cell_type": "code",
   "execution_count": 12,
   "id": "ffbf7da7-9af5-48dd-a0bf-7bd604f70458",
   "metadata": {},
   "outputs": [],
   "source": [
    "contacts = [['Mike Green', 'demo1@deital.com', '5555555555'], ['Sue Brown', 'demo2@deitel.com', '5555551234']]"
   ]
  },
  {
   "cell_type": "code",
   "execution_count": 13,
   "id": "84bb8c2a-e000-434d-9178-4b9557ff8528",
   "metadata": {},
   "outputs": [],
   "source": [
    "contactsdf = pd.DataFrame(contacts,\n",
    "                          columns = ['Name', 'Email', 'Phone'])"
   ]
  },
  {
   "cell_type": "code",
   "execution_count": 14,
   "id": "ce4af53b-ebff-49cc-8118-4f81a7dee321",
   "metadata": {},
   "outputs": [
    {
     "data": {
      "text/html": [
       "<div>\n",
       "<style scoped>\n",
       "    .dataframe tbody tr th:only-of-type {\n",
       "        vertical-align: middle;\n",
       "    }\n",
       "\n",
       "    .dataframe tbody tr th {\n",
       "        vertical-align: top;\n",
       "    }\n",
       "\n",
       "    .dataframe thead th {\n",
       "        text-align: right;\n",
       "    }\n",
       "</style>\n",
       "<table border=\"1\" class=\"dataframe\">\n",
       "  <thead>\n",
       "    <tr style=\"text-align: right;\">\n",
       "      <th></th>\n",
       "      <th>Name</th>\n",
       "      <th>Email</th>\n",
       "      <th>Phone</th>\n",
       "    </tr>\n",
       "  </thead>\n",
       "  <tbody>\n",
       "    <tr>\n",
       "      <th>0</th>\n",
       "      <td>Mike Green</td>\n",
       "      <td>demo1@deital.com</td>\n",
       "      <td>5555555555</td>\n",
       "    </tr>\n",
       "    <tr>\n",
       "      <th>1</th>\n",
       "      <td>Sue Brown</td>\n",
       "      <td>demo2@deitel.com</td>\n",
       "      <td>5555551234</td>\n",
       "    </tr>\n",
       "  </tbody>\n",
       "</table>\n",
       "</div>"
      ],
      "text/plain": [
       "         Name             Email       Phone\n",
       "0  Mike Green  demo1@deital.com  5555555555\n",
       "1   Sue Brown  demo2@deitel.com  5555551234"
      ]
     },
     "execution_count": 14,
     "metadata": {},
     "output_type": "execute_result"
    }
   ],
   "source": [
    "contactsdf"
   ]
  },
  {
   "cell_type": "code",
   "execution_count": 15,
   "id": "d6bb60f9-0fc6-431b-a552-a009bf54b1d5",
   "metadata": {},
   "outputs": [],
   "source": [
    "import re\n",
    "#returns phone numbers in the correct format\n",
    "\n",
    "def get_formatted_phone(value):\n",
    "    \n",
    "    result = re.fullmatch(r'(\\d{3})(\\d{3})(\\d{4})', value) \n",
    "    \n",
    "    return '-'.join(result.groups()) if result else value"
   ]
  },
  {
   "cell_type": "code",
   "execution_count": 16,
   "id": "b1bd5814-9c9d-44a1-ab5e-161fb77fc6de",
   "metadata": {},
   "outputs": [],
   "source": [
    "formatted_phone = contactsdf['Phone'].map(get_formatted_phone)"
   ]
  },
  {
   "cell_type": "code",
   "execution_count": 17,
   "id": "12d38561-293e-46a5-a21d-4678bb24f7ec",
   "metadata": {},
   "outputs": [
    {
     "data": {
      "text/plain": [
       "0    555-555-5555\n",
       "1    555-555-1234\n",
       "Name: Phone, dtype: object"
      ]
     },
     "execution_count": 17,
     "metadata": {},
     "output_type": "execute_result"
    }
   ],
   "source": [
    "formatted_phone"
   ]
  },
  {
   "cell_type": "code",
   "execution_count": 18,
   "id": "27f2abd0-9aac-4c0f-bf22-ce6e9aebc648",
   "metadata": {},
   "outputs": [],
   "source": [
    "contactsdf['Phone'] = formatted_phone"
   ]
  },
  {
   "cell_type": "code",
   "execution_count": 19,
   "id": "6bb62941-751c-49a4-b809-b83119acb0d1",
   "metadata": {},
   "outputs": [
    {
     "data": {
      "text/html": [
       "<div>\n",
       "<style scoped>\n",
       "    .dataframe tbody tr th:only-of-type {\n",
       "        vertical-align: middle;\n",
       "    }\n",
       "\n",
       "    .dataframe tbody tr th {\n",
       "        vertical-align: top;\n",
       "    }\n",
       "\n",
       "    .dataframe thead th {\n",
       "        text-align: right;\n",
       "    }\n",
       "</style>\n",
       "<table border=\"1\" class=\"dataframe\">\n",
       "  <thead>\n",
       "    <tr style=\"text-align: right;\">\n",
       "      <th></th>\n",
       "      <th>Name</th>\n",
       "      <th>Email</th>\n",
       "      <th>Phone</th>\n",
       "    </tr>\n",
       "  </thead>\n",
       "  <tbody>\n",
       "    <tr>\n",
       "      <th>0</th>\n",
       "      <td>Mike Green</td>\n",
       "      <td>demo1@deital.com</td>\n",
       "      <td>555-555-5555</td>\n",
       "    </tr>\n",
       "    <tr>\n",
       "      <th>1</th>\n",
       "      <td>Sue Brown</td>\n",
       "      <td>demo2@deitel.com</td>\n",
       "      <td>555-555-1234</td>\n",
       "    </tr>\n",
       "  </tbody>\n",
       "</table>\n",
       "</div>"
      ],
      "text/plain": [
       "         Name             Email         Phone\n",
       "0  Mike Green  demo1@deital.com  555-555-5555\n",
       "1   Sue Brown  demo2@deitel.com  555-555-1234"
      ]
     },
     "execution_count": 19,
     "metadata": {},
     "output_type": "execute_result"
    }
   ],
   "source": [
    "contactsdf"
   ]
  },
  {
   "cell_type": "code",
   "execution_count": 20,
   "id": "2588a7a2-ab8d-436e-adff-1aeddeb45643",
   "metadata": {},
   "outputs": [],
   "source": [
    "# Mike Abbinante"
   ]
  }
 ],
 "metadata": {
  "kernelspec": {
   "display_name": "Python 3 (ipykernel)",
   "language": "python",
   "name": "python3"
  },
  "language_info": {
   "codemirror_mode": {
    "name": "ipython",
    "version": 3
   },
   "file_extension": ".py",
   "mimetype": "text/x-python",
   "name": "python",
   "nbconvert_exporter": "python",
   "pygments_lexer": "ipython3",
   "version": "3.9.12"
  }
 },
 "nbformat": 4,
 "nbformat_minor": 5
}
